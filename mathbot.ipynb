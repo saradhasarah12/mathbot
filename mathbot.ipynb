{
 "cells": [
  {
   "cell_type": "code",
   "execution_count": null,
   "id": "bff84741",
   "metadata": {},
   "outputs": [
    {
     "name": "stdout",
     "output_type": "stream",
     "text": [
      "Nice to meet you, How can I help you\n",
      "\n",
      "Please type the opperation followed by the input digits\n"
     ]
    }
   ],
   "source": [
    "from random import randint\n",
    "def greet_random():\n",
    "    n=0\n",
    "    greetings=['Hello, welcome to the chatbot.Welcome to math bot','Nice to meet you, How can I help you','Hope you are doing good...Welcome to math bot']\n",
    "    n=randint(0,len(greetings)-1)\n",
    "    return(greetings[n])\n",
    "\n",
    "greeting=greet_random()\n",
    "print(greeting)\n",
    "\n",
    "quit_mes=['stop','quit','bye','exit']\n",
    "print()\n",
    "print(\"Please type the opperation followed by the input digits\")\n",
    "while True:\n",
    "  mes=input()\n",
    "  if mes in quit_mes:\n",
    "    break\n",
    "  elif \"add\" in mes:\n",
    "    split_mes = mes.split()\n",
    "    p1 = float(split_mes[1])\n",
    "    p2 = float(split_mes[2])\n",
    "    print(p1+p2)\n",
    "\n",
    "  elif \"mul\" in mes:\n",
    "    split_mes = mes.split()\n",
    "    p1 = float(split_mes[1])\n",
    "    p2 = float(split_mes[2])\n",
    "    print(p1*p2)\n",
    "\n",
    "  elif \"sub\" in mes:\n",
    "    split_mes = mes.split()\n",
    "    p1 = float(split_mes[1])\n",
    "    p2 = float(split_mes[2])\n",
    "    print(p1-p2)\n",
    "\n",
    "  elif \"div\" in mes:\n",
    "    split_mes = mes.split()\n",
    "    p1 = float(split_mes[1])\n",
    "    p2 = float(split_mes[2])\n",
    "    print(p1/p2)\n",
    "\n",
    "  elif \"square\" in mes:\n",
    "    plit_mes = mes.split()\n",
    "    p1 = float(split_mes[1])\n",
    "    print(p1**2)"
   ]
  },
  {
   "cell_type": "code",
   "execution_count": null,
   "id": "4e625b62",
   "metadata": {},
   "outputs": [],
   "source": []
  },
  {
   "cell_type": "code",
   "execution_count": null,
   "id": "3235789e",
   "metadata": {},
   "outputs": [],
   "source": []
  }
 ],
 "metadata": {
  "kernelspec": {
   "display_name": "Python 3 (ipykernel)",
   "language": "python",
   "name": "python3"
  },
  "language_info": {
   "codemirror_mode": {
    "name": "ipython",
    "version": 3
   },
   "file_extension": ".py",
   "mimetype": "text/x-python",
   "name": "python",
   "nbconvert_exporter": "python",
   "pygments_lexer": "ipython3",
   "version": "3.9.12"
  }
 },
 "nbformat": 4,
 "nbformat_minor": 5
}
